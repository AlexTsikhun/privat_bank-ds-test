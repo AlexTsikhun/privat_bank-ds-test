{
 "cells": [
  {
   "cell_type": "code",
   "execution_count": 1,
   "id": "60437884",
   "metadata": {
    "_cell_guid": "b1076dfc-b9ad-4769-8c92-a6c4dae69d19",
    "_uuid": "8f2839f25d086af736a60e9eeb907d3b93b6e0e5",
    "execution": {
     "iopub.execute_input": "2023-06-14T11:34:36.576022Z",
     "iopub.status.busy": "2023-06-14T11:34:36.575561Z",
     "iopub.status.idle": "2023-06-14T11:34:40.633238Z",
     "shell.execute_reply": "2023-06-14T11:34:40.632115Z"
    },
    "papermill": {
     "duration": 4.075433,
     "end_time": "2023-06-14T11:34:40.635934",
     "exception": false,
     "start_time": "2023-06-14T11:34:36.560501",
     "status": "completed"
    },
    "tags": []
   },
   "outputs": [],
   "source": [
    "from pathlib import Path\n",
    "import pandas as pd\n",
    "import matplotlib.pyplot as plt\n",
    "import numpy as np\n",
    "from scipy import stats\n",
    "from sklearn.linear_model import LinearRegression\n",
    "import scipy\n",
    "from sklearn.ensemble import RandomForestRegressor\n",
    "from imblearn.over_sampling import SMOTE\n",
    "from sklearn.ensemble import RandomForestClassifier\n",
    "import lightgbm as lgb\n",
    "from sklearn.model_selection import train_test_split\n",
    "from sklearn.linear_model import LogisticRegression\n",
    "from sklearn.metrics import classification_report, confusion_matrix\n",
    "from xgboost import XGBClassifier\n",
    "import optuna\n",
    "from sklearn.impute import SimpleImputer\n",
    "\n",
    "pd.set_option(\"display.max_columns\", None)"
   ]
  },
  {
   "cell_type": "markdown",
   "id": "8591b073",
   "metadata": {
    "papermill": {
     "duration": 0.012374,
     "end_time": "2023-06-14T11:34:40.661213",
     "exception": false,
     "start_time": "2023-06-14T11:34:40.648839",
     "status": "completed"
    },
    "tags": []
   },
   "source": [
    "## TRAIN"
   ]
  },
  {
   "cell_type": "code",
   "execution_count": 2,
   "id": "b07401e6",
   "metadata": {
    "execution": {
     "iopub.execute_input": "2023-06-14T11:34:40.686105Z",
     "iopub.status.busy": "2023-06-14T11:34:40.685810Z",
     "iopub.status.idle": "2023-06-14T11:34:43.087864Z",
     "shell.execute_reply": "2023-06-14T11:34:43.086855Z"
    },
    "papermill": {
     "duration": 2.417353,
     "end_time": "2023-06-14T11:34:43.090382",
     "exception": false,
     "start_time": "2023-06-14T11:34:40.673029",
     "status": "completed"
    },
    "tags": []
   },
   "outputs": [],
   "source": [
    "# or data/train_df.csv\n",
    "df_train = pd.read_csv(\"/kaggle/input/privat-bank-ds/train_df.csv\", sep=\"\\t\")"
   ]
  },
  {
   "cell_type": "markdown",
   "id": "dd0c092e",
   "metadata": {
    "papermill": {
     "duration": 0.012432,
     "end_time": "2023-06-14T11:34:43.115679",
     "exception": false,
     "start_time": "2023-06-14T11:34:43.103247",
     "status": "completed"
    },
    "tags": []
   },
   "source": [
    "### Preprocesing functions"
   ]
  },
  {
   "cell_type": "code",
   "execution_count": 3,
   "id": "72743f1f",
   "metadata": {
    "execution": {
     "iopub.execute_input": "2023-06-14T11:34:43.142609Z",
     "iopub.status.busy": "2023-06-14T11:34:43.141797Z",
     "iopub.status.idle": "2023-06-14T11:34:43.149051Z",
     "shell.execute_reply": "2023-06-14T11:34:43.148094Z"
    },
    "papermill": {
     "duration": 0.023041,
     "end_time": "2023-06-14T11:34:43.151084",
     "exception": false,
     "start_time": "2023-06-14T11:34:43.128043",
     "status": "completed"
    },
    "tags": []
   },
   "outputs": [],
   "source": [
    "def del_same_cat_features(df):\n",
    "    \"\"\"\n",
    "    Removes categorical features that have repetitive values in the DataFrame.\n",
    "\n",
    "    Args:\n",
    "        df (pandas.DataFrame): The DataFrame containing categorical features.\n",
    "\n",
    "    Returns:\n",
    "        cleaned_df (pandas.DataFrame): The DataFrame with repetitive categorical features removed.\n",
    "        repetitive_cols (list): A list of the removed repetitive categorical feature names.\n",
    "    \"\"\"\n",
    "    repetitive_cols = []\n",
    "    categorical_features = [column for column in df.columns if column.startswith('cat_')]\n",
    "    for column in df[categorical_features]:\n",
    "        value_counts = df[column].value_counts()\n",
    "        if value_counts.iloc[0] > len(df) * 0.9:  # Threshold for repetition, if more than 90% of the values are the same\n",
    "            repetitive_cols.append(column)\n",
    "\n",
    "    cleaned_df = df.drop(repetitive_cols, axis=1)\n",
    "    print(len(repetitive_cols))\n",
    "    return cleaned_df, repetitive_cols"
   ]
  },
  {
   "cell_type": "code",
   "execution_count": 4,
   "id": "cf4ff326",
   "metadata": {
    "execution": {
     "iopub.execute_input": "2023-06-14T11:34:43.176595Z",
     "iopub.status.busy": "2023-06-14T11:34:43.176291Z",
     "iopub.status.idle": "2023-06-14T11:34:43.182903Z",
     "shell.execute_reply": "2023-06-14T11:34:43.181855Z"
    },
    "papermill": {
     "duration": 0.022534,
     "end_time": "2023-06-14T11:34:43.185328",
     "exception": false,
     "start_time": "2023-06-14T11:34:43.162794",
     "status": "completed"
    },
    "tags": []
   },
   "outputs": [],
   "source": [
    "def del_sparce_num_features(df):\n",
    "    \"\"\"\n",
    "    Removes sparse numeric features from the DataFrame based on the variance threshold.\n",
    "\n",
    "    Args:\n",
    "        df (pandas.DataFrame): The DataFrame containing numeric features.\n",
    "\n",
    "    Returns:\n",
    "        cleaned_df (pandas.DataFrame): The DataFrame with sparse numeric features removed.\n",
    "        sparse_columns (list): A list of the removed sparse numeric feature names.\n",
    "    \"\"\"\n",
    "    numeric_features = [column for column in df.columns if column.startswith('num_')]\n",
    "    numerical_stats = df[numeric_features].describe()\n",
    "\n",
    "    variance_threshold = 0.01  # Columns with variance below this threshold will be considered sparse\n",
    "\n",
    "    sparse_numeric_features = [col for col in numeric_features if numerical_stats.loc['std', col] < variance_threshold]\n",
    "\n",
    "    sparse_columns = sparse_numeric_features\n",
    "\n",
    "    df = df.drop(columns=sparse_columns)\n",
    "    return df, sparse_columns\n"
   ]
  },
  {
   "cell_type": "code",
   "execution_count": 5,
   "id": "cc8222b4",
   "metadata": {
    "execution": {
     "iopub.execute_input": "2023-06-14T11:34:43.210229Z",
     "iopub.status.busy": "2023-06-14T11:34:43.209958Z",
     "iopub.status.idle": "2023-06-14T11:34:43.215777Z",
     "shell.execute_reply": "2023-06-14T11:34:43.214736Z"
    },
    "papermill": {
     "duration": 0.020894,
     "end_time": "2023-06-14T11:34:43.218117",
     "exception": false,
     "start_time": "2023-06-14T11:34:43.197223",
     "status": "completed"
    },
    "tags": []
   },
   "outputs": [],
   "source": [
    "def del_nans(df):\n",
    "    \"\"\"\n",
    "    Deletes columns with NaN values from the DataFrame.\n",
    "\n",
    "    Args:\n",
    "        df (pandas.DataFrame): The DataFrame to remove columns with NaN values from.\n",
    "\n",
    "    Returns:\n",
    "        cleaned_df (pandas.DataFrame): The DataFrame with columns containing NaN values removed.\n",
    "        nan_columns (list): A list of the removed column names containing NaN values.\n",
    "    \"\"\"\n",
    "    columns_with_all_nan = df.columns[df.isna().all()]\n",
    "    df = df.drop(columns=columns_with_all_nan)\n",
    "    df = df.drop(columns=[\"Unnamed: 0\", \"id\"])\n",
    "    print(columns_with_all_nan)\n",
    "    return df, columns_with_all_nan\n",
    "          \n"
   ]
  },
  {
   "cell_type": "code",
   "execution_count": 6,
   "id": "fc198b33",
   "metadata": {
    "execution": {
     "iopub.execute_input": "2023-06-14T11:34:43.242318Z",
     "iopub.status.busy": "2023-06-14T11:34:43.242042Z",
     "iopub.status.idle": "2023-06-14T11:34:43.249335Z",
     "shell.execute_reply": "2023-06-14T11:34:43.248425Z"
    },
    "papermill": {
     "duration": 0.021693,
     "end_time": "2023-06-14T11:34:43.251408",
     "exception": false,
     "start_time": "2023-06-14T11:34:43.229715",
     "status": "completed"
    },
    "tags": []
   },
   "outputs": [],
   "source": [
    "def del_cols_missing(df):\n",
    "    \"\"\"\n",
    "    Deletes columns with a high percentage of missing values from the DataFrame.\n",
    "\n",
    "    Args:\n",
    "        df (pandas.DataFrame): The DataFrame to remove columns with missing values from.\n",
    "\n",
    "    Returns:\n",
    "        cleaned_df (pandas.DataFrame): The DataFrame with columns containing missing values removed.\n",
    "        missing_columns (list): A list of the removed column names containing missing values.\n",
    "    \"\"\"\n",
    "    # Calculate the percentage of missing values for each column\n",
    "    missing_percentages = df.isnull().sum() / len(df) * 100\n",
    "\n",
    "    # Sort\n",
    "    missing_percentages_sorted = missing_percentages.sort_values(ascending=False)\n",
    "\n",
    "#     # Plot a bar chart to visualize the missingness distribution\n",
    "#     plt.figure(figsize=(12, 6))\n",
    "#     plt.bar(missing_percentages_sorted.index, missing_percentages_sorted)\n",
    "#     plt.xticks(rotation=90)\n",
    "#     plt.xlabel('Columns')\n",
    "#     plt.ylabel('Missing Percentage')\n",
    "#     plt.title('Percentage of Missing Values in Each Column')\n",
    "#     plt.show()\n",
    "\n",
    "    print((missing_percentages>50).sum())\n",
    "    delete_cols = missing_percentages[missing_percentages>50].index\n",
    "    df = df.drop(columns=delete_cols)\n",
    "    return df, delete_cols"
   ]
  },
  {
   "cell_type": "code",
   "execution_count": 7,
   "id": "4aa901da",
   "metadata": {
    "execution": {
     "iopub.execute_input": "2023-06-14T11:34:43.277173Z",
     "iopub.status.busy": "2023-06-14T11:34:43.276902Z",
     "iopub.status.idle": "2023-06-14T11:34:43.282613Z",
     "shell.execute_reply": "2023-06-14T11:34:43.281521Z"
    },
    "papermill": {
     "duration": 0.020963,
     "end_time": "2023-06-14T11:34:43.284616",
     "exception": false,
     "start_time": "2023-06-14T11:34:43.263653",
     "status": "completed"
    },
    "tags": []
   },
   "outputs": [],
   "source": [
    "def impute(df):\n",
    "    \"\"\"\n",
    "    Imputes missing values in the DataFrame using the mean strategy.\n",
    "\n",
    "    Args:\n",
    "        df (pandas.DataFrame): The DataFrame to impute missing values in.\n",
    "\n",
    "    Returns:\n",
    "        imputed_df (pandas.DataFrame): The DataFrame with missing values imputed.\n",
    "    \"\"\"\n",
    "    imputer = SimpleImputer(strategy='mean')\n",
    "\n",
    "    imputer.fit(df)\n",
    "\n",
    "    df = pd.DataFrame(imputer.transform(df), columns=df.columns)\n",
    "    print(df.isna().sum().sum())\n",
    "    return df"
   ]
  },
  {
   "cell_type": "code",
   "execution_count": 8,
   "id": "4b549816",
   "metadata": {
    "execution": {
     "iopub.execute_input": "2023-06-14T11:34:43.309035Z",
     "iopub.status.busy": "2023-06-14T11:34:43.308765Z",
     "iopub.status.idle": "2023-06-14T11:34:43.315295Z",
     "shell.execute_reply": "2023-06-14T11:34:43.314407Z"
    },
    "papermill": {
     "duration": 0.021129,
     "end_time": "2023-06-14T11:34:43.317327",
     "exception": false,
     "start_time": "2023-06-14T11:34:43.296198",
     "status": "completed"
    },
    "tags": []
   },
   "outputs": [],
   "source": [
    "def del_outliers(df):\n",
    "    \"\"\"\n",
    "    Removes outliers from the DataFrame using the z-score method.\n",
    "\n",
    "    Args:\n",
    "        df (pandas.DataFrame): The DataFrame to remove outliers from.\n",
    "\n",
    "    Returns:\n",
    "        cleaned_df (pandas.DataFrame): The DataFrame with outliers removed.\n",
    "    \"\"\"\n",
    "    def remove_outliers_zscore(df, threshold=3):\n",
    "        z_scores = np.abs(stats.zscore(df))\n",
    "        outlier_indices = np.where(z_scores > threshold)\n",
    "        cleaned_df = df.drop(outlier_indices[0])\n",
    "        return cleaned_df\n",
    "\n",
    "\n",
    "    # Detect outliers\n",
    "    outlier_indices = remove_outliers_zscore(df)\n",
    "\n",
    "    # Remove outliers\n",
    "    df_filtered = df.drop(outlier_indices.index)\n",
    "    return df_filtered\n"
   ]
  },
  {
   "cell_type": "code",
   "execution_count": 9,
   "id": "f0af10bb",
   "metadata": {
    "execution": {
     "iopub.execute_input": "2023-06-14T11:34:43.342309Z",
     "iopub.status.busy": "2023-06-14T11:34:43.342011Z",
     "iopub.status.idle": "2023-06-14T11:34:43.350626Z",
     "shell.execute_reply": "2023-06-14T11:34:43.349599Z"
    },
    "papermill": {
     "duration": 0.024115,
     "end_time": "2023-06-14T11:34:43.352793",
     "exception": false,
     "start_time": "2023-06-14T11:34:43.328678",
     "status": "completed"
    },
    "tags": []
   },
   "outputs": [],
   "source": [
    "def del_skew(df):\n",
    "    \"\"\"\n",
    "    Applies log transformation to skewed numeric columns in the DataFrame.\n",
    "\n",
    "    Args:\n",
    "        df (pandas.DataFrame): The DataFrame to remove skewness from.\n",
    "\n",
    "    Returns:\n",
    "        transformed_df (pandas.DataFrame): The DataFrame with log-transformed skewed numeric columns.\n",
    "    \"\"\"\n",
    "    numeric_col_name = [column for column in df.columns if column.startswith('num_')]\n",
    "    skew_df = pd.DataFrame(numeric_col_name, columns=['Feature'])\n",
    "    skew_df['Skew'] = skew_df['Feature'].apply(lambda feature: scipy.stats.skew(df[feature]))\n",
    "    skew_df['Absolute Skew'] = skew_df['Skew'].apply(abs)\n",
    "    skew_df['Skewed'] = skew_df['Absolute Skew'].apply(lambda x: True if x>=0.5 else False)\n",
    "    #     skew_df\n",
    "    # \n",
    "    skew_df[\"Skewed\"].value_counts()\n",
    "    \n",
    "    # Apply for skewed columns log transform\n",
    "    for colunm in skew_df.query('Skewed == True')['Feature'].values:\n",
    "        negative_or_zero_mask = (df[colunm] <= 0)\n",
    "        df.loc[negative_or_zero_mask, colunm] = 0\n",
    "        df[colunm] = np.log1p(df[colunm])\n",
    "\n",
    "    print(df.isna().sum().sum())\n",
    "    return df"
   ]
  },
  {
   "cell_type": "code",
   "execution_count": 10,
   "id": "1e5bc1e1",
   "metadata": {
    "execution": {
     "iopub.execute_input": "2023-06-14T11:34:43.379779Z",
     "iopub.status.busy": "2023-06-14T11:34:43.378984Z",
     "iopub.status.idle": "2023-06-14T11:34:43.386056Z",
     "shell.execute_reply": "2023-06-14T11:34:43.385062Z"
    },
    "papermill": {
     "duration": 0.022588,
     "end_time": "2023-06-14T11:34:43.388275",
     "exception": false,
     "start_time": "2023-06-14T11:34:43.365687",
     "status": "completed"
    },
    "tags": []
   },
   "outputs": [],
   "source": [
    "def replace_zeros(df):\n",
    "    \"\"\"\n",
    "    Replaces zeros in numeric columns of the DataFrame with the mode value of non-zero values. MODE don't spoil so much\n",
    "\n",
    "    Args:\n",
    "        df (pandas.DataFrame): The DataFrame to replace zeros in.\n",
    "\n",
    "    Returns:\n",
    "        replaced_df (pandas.DataFrame): The DataFrame with zeros replaced.\n",
    "    \"\"\"\n",
    "    numeric_col_name = [column for column in df.columns if column.startswith('num_')]\n",
    "\n",
    "    for column in df[numeric_col_name].columns:\n",
    "        non_zero_values = df[column][df[column] != 0]\n",
    "        if len(non_zero_values) > 0:\n",
    "            mode_value = non_zero_values.mode()[0]\n",
    "            df[column] = df[column].replace(0, mode_value)\n",
    "\n",
    "\n",
    "    df = df.fillna(0)\n",
    "    # yes, I lose some important data (in some columns) but this 0 values spoil the distribution\n",
    "    return df"
   ]
  },
  {
   "cell_type": "code",
   "execution_count": 11,
   "id": "c9ede177",
   "metadata": {
    "execution": {
     "iopub.execute_input": "2023-06-14T11:34:43.413217Z",
     "iopub.status.busy": "2023-06-14T11:34:43.412947Z",
     "iopub.status.idle": "2023-06-14T11:34:43.420295Z",
     "shell.execute_reply": "2023-06-14T11:34:43.419442Z"
    },
    "papermill": {
     "duration": 0.021993,
     "end_time": "2023-06-14T11:34:43.422293",
     "exception": false,
     "start_time": "2023-06-14T11:34:43.400300",
     "status": "completed"
    },
    "tags": []
   },
   "outputs": [],
   "source": [
    "def preprocessing(df):\n",
    "    \"\"\"\n",
    "    Performs a series of preprocessing steps on the DataFrame.\n",
    "\n",
    "    Args:\n",
    "        df (pandas.DataFrame): The DataFrame to preprocess.\n",
    "\n",
    "    Returns:\n",
    "        preprocessed_df (pandas.DataFrame): The preprocessed DataFrame.\n",
    "        delete (tuple): A tuple containing lists of deleted columns at each preprocessing step.\n",
    "    \"\"\"    \n",
    "    df_del_cat, del_cols = del_same_cat_features(df)\n",
    "    df_del_sparce_num, del_sparce = del_sparce_num_features(df_del_cat)\n",
    "    df_del_nuns, del_nuns = del_nans(df_del_sparce_num)\n",
    "    df_del_cmissing_cols, del_missing = del_cols_missing(df_del_nuns)\n",
    "    df_impute = impute(df_del_cmissing_cols)\n",
    "    df_outliers = del_outliers(df_impute)\n",
    "    df_skew = del_skew(df_outliers)\n",
    "    df_replace_zeros = replace_zeros(df_skew)\n",
    "    \n",
    "    delete = (del_cols, del_sparce, del_nuns, del_missing)\n",
    "    \n",
    "    return df_replace_zeros, delete"
   ]
  },
  {
   "cell_type": "code",
   "execution_count": 12,
   "id": "5aae12bf",
   "metadata": {
    "execution": {
     "iopub.execute_input": "2023-06-14T11:34:43.445913Z",
     "iopub.status.busy": "2023-06-14T11:34:43.445650Z",
     "iopub.status.idle": "2023-06-14T11:34:49.321357Z",
     "shell.execute_reply": "2023-06-14T11:34:49.320309Z"
    },
    "papermill": {
     "duration": 5.890341,
     "end_time": "2023-06-14T11:34:49.323935",
     "exception": false,
     "start_time": "2023-06-14T11:34:43.433594",
     "status": "completed"
    },
    "tags": []
   },
   "outputs": [
    {
     "name": "stdout",
     "output_type": "stream",
     "text": [
      "75\n",
      "Index(['num_23', 'num_66', 'num_150', 'num_152', 'num_242', 'num_250',\n",
      "       'num_258', 'num_266', 'num_342', 'num_365', 'num_375', 'num_392'],\n",
      "      dtype='object')\n",
      "150\n",
      "0\n",
      "0\n"
     ]
    }
   ],
   "source": [
    "df_preprocessed, delete = preprocessing(df_train)"
   ]
  },
  {
   "cell_type": "markdown",
   "id": "976b96e6",
   "metadata": {
    "papermill": {
     "duration": 0.01188,
     "end_time": "2023-06-14T11:34:49.348855",
     "exception": false,
     "start_time": "2023-06-14T11:34:49.336975",
     "status": "completed"
    },
    "tags": []
   },
   "source": [
    "### Split the train data"
   ]
  },
  {
   "cell_type": "code",
   "execution_count": 13,
   "id": "5ce79552",
   "metadata": {
    "execution": {
     "iopub.execute_input": "2023-06-14T11:34:49.375405Z",
     "iopub.status.busy": "2023-06-14T11:34:49.373931Z",
     "iopub.status.idle": "2023-06-14T11:34:49.392161Z",
     "shell.execute_reply": "2023-06-14T11:34:49.391195Z"
    },
    "papermill": {
     "duration": 0.033572,
     "end_time": "2023-06-14T11:34:49.394409",
     "exception": false,
     "start_time": "2023-06-14T11:34:49.360837",
     "status": "completed"
    },
    "tags": []
   },
   "outputs": [],
   "source": [
    "X = df_preprocessed.drop('gb', axis=1)\n",
    "y = df_preprocessed['gb']"
   ]
  },
  {
   "cell_type": "code",
   "execution_count": 14,
   "id": "8d56c862",
   "metadata": {
    "execution": {
     "iopub.execute_input": "2023-06-14T11:34:49.420760Z",
     "iopub.status.busy": "2023-06-14T11:34:49.420475Z",
     "iopub.status.idle": "2023-06-14T11:34:49.451565Z",
     "shell.execute_reply": "2023-06-14T11:34:49.450633Z"
    },
    "papermill": {
     "duration": 0.04619,
     "end_time": "2023-06-14T11:34:49.453757",
     "exception": false,
     "start_time": "2023-06-14T11:34:49.407567",
     "status": "completed"
    },
    "tags": []
   },
   "outputs": [],
   "source": [
    "X_train, X_test, y_train, y_test = train_test_split(X, y, test_size=0.2, random_state=42)"
   ]
  },
  {
   "cell_type": "markdown",
   "id": "58fc558e",
   "metadata": {
    "papermill": {
     "duration": 0.011927,
     "end_time": "2023-06-14T11:34:49.477757",
     "exception": false,
     "start_time": "2023-06-14T11:34:49.465830",
     "status": "completed"
    },
    "tags": []
   },
   "source": [
    "### We have unbalanced dataset and must apply oversampling technice"
   ]
  },
  {
   "cell_type": "code",
   "execution_count": 15,
   "id": "82e94ddf",
   "metadata": {
    "execution": {
     "iopub.execute_input": "2023-06-14T11:34:49.502381Z",
     "iopub.status.busy": "2023-06-14T11:34:49.502092Z",
     "iopub.status.idle": "2023-06-14T11:34:49.763491Z",
     "shell.execute_reply": "2023-06-14T11:34:49.762515Z"
    },
    "papermill": {
     "duration": 0.276479,
     "end_time": "2023-06-14T11:34:49.765981",
     "exception": false,
     "start_time": "2023-06-14T11:34:49.489502",
     "status": "completed"
    },
    "tags": []
   },
   "outputs": [],
   "source": [
    "# Oversampling only to train data\n",
    "smote = SMOTE()\n",
    "X_train_sm, y_train_sm = smote.fit_resample(X_train, y_train)"
   ]
  },
  {
   "cell_type": "code",
   "execution_count": 16,
   "id": "cf8636f5",
   "metadata": {
    "execution": {
     "iopub.execute_input": "2023-06-14T11:34:49.791536Z",
     "iopub.status.busy": "2023-06-14T11:34:49.791211Z",
     "iopub.status.idle": "2023-06-14T11:35:26.740218Z",
     "shell.execute_reply": "2023-06-14T11:35:26.739134Z"
    },
    "papermill": {
     "duration": 36.976466,
     "end_time": "2023-06-14T11:35:26.754674",
     "exception": false,
     "start_time": "2023-06-14T11:34:49.778208",
     "status": "completed"
    },
    "tags": []
   },
   "outputs": [
    {
     "name": "stdout",
     "output_type": "stream",
     "text": [
      "Confusion Matrix:\n",
      "[[3346    0]\n",
      " [  37   95]]\n",
      "              precision    recall  f1-score   support\n",
      "\n",
      "         0.0       0.99      1.00      0.99      3346\n",
      "         1.0       1.00      0.72      0.84       132\n",
      "\n",
      "    accuracy                           0.99      3478\n",
      "   macro avg       0.99      0.86      0.92      3478\n",
      "weighted avg       0.99      0.99      0.99      3478\n",
      "\n"
     ]
    }
   ],
   "source": [
    "random_forest = RandomForestClassifier(n_estimators=100, random_state=42)\n",
    "\n",
    "random_forest.fit(X_train_sm, y_train_sm)\n",
    "\n",
    "y_pred = random_forest.predict(X_test)\n",
    "\n",
    "cm = confusion_matrix(y_test, y_pred)\n",
    "print(\"Confusion Matrix:\")\n",
    "print(cm)\n",
    "\n",
    "# Evaluating the accuracy of the model\n",
    "report = classification_report(y_test, y_pred)\n",
    "print(report)"
   ]
  },
  {
   "cell_type": "code",
   "execution_count": null,
   "id": "bc984715",
   "metadata": {
    "papermill": {
     "duration": 0.01149,
     "end_time": "2023-06-14T11:35:26.778077",
     "exception": false,
     "start_time": "2023-06-14T11:35:26.766587",
     "status": "completed"
    },
    "tags": []
   },
   "outputs": [],
   "source": []
  },
  {
   "cell_type": "code",
   "execution_count": 17,
   "id": "deb1a2cd",
   "metadata": {
    "execution": {
     "iopub.execute_input": "2023-06-14T11:35:26.803867Z",
     "iopub.status.busy": "2023-06-14T11:35:26.803048Z",
     "iopub.status.idle": "2023-06-14T11:35:29.922273Z",
     "shell.execute_reply": "2023-06-14T11:35:29.920220Z"
    },
    "papermill": {
     "duration": 3.1348,
     "end_time": "2023-06-14T11:35:29.924621",
     "exception": false,
     "start_time": "2023-06-14T11:35:26.789821",
     "status": "completed"
    },
    "tags": []
   },
   "outputs": [
    {
     "name": "stdout",
     "output_type": "stream",
     "text": [
      "Confusion Matrix:\n",
      "[[3344    2]\n",
      " [  28  104]]\n",
      "              precision    recall  f1-score   support\n",
      "\n",
      "         0.0       0.99      1.00      1.00      3346\n",
      "         1.0       0.98      0.79      0.87       132\n",
      "\n",
      "    accuracy                           0.99      3478\n",
      "   macro avg       0.99      0.89      0.93      3478\n",
      "weighted avg       0.99      0.99      0.99      3478\n",
      "\n"
     ]
    }
   ],
   "source": [
    "# with GPU\n",
    "xgboost = XGBClassifier(tree_method='gpu_hist', gpu_id=0 )\n",
    "xgboost.fit(X_train_sm, y_train_sm)\n",
    "\n",
    "y_pred = xgboost.predict(X_test)\n",
    "predictions = [round(value) for value in y_pred]\n",
    "\n",
    "cm = confusion_matrix(y_test, y_pred)\n",
    "print(\"Confusion Matrix:\")\n",
    "print(cm)\n",
    "\n",
    "# Evaluating the accuracy of the model\n",
    "report = classification_report(y_test, y_pred)\n",
    "print(report)"
   ]
  },
  {
   "cell_type": "markdown",
   "id": "1fbef970",
   "metadata": {
    "papermill": {
     "duration": 0.012029,
     "end_time": "2023-06-14T11:35:29.950174",
     "exception": false,
     "start_time": "2023-06-14T11:35:29.938145",
     "status": "completed"
    },
    "tags": []
   },
   "source": [
    "### Try ensemble method for better prediction"
   ]
  },
  {
   "cell_type": "code",
   "execution_count": 18,
   "id": "bb959043",
   "metadata": {
    "execution": {
     "iopub.execute_input": "2023-06-14T11:35:29.976109Z",
     "iopub.status.busy": "2023-06-14T11:35:29.975567Z",
     "iopub.status.idle": "2023-06-14T11:36:08.932782Z",
     "shell.execute_reply": "2023-06-14T11:36:08.932016Z"
    },
    "papermill": {
     "duration": 38.973027,
     "end_time": "2023-06-14T11:36:08.935298",
     "exception": false,
     "start_time": "2023-06-14T11:35:29.962271",
     "status": "completed"
    },
    "tags": []
   },
   "outputs": [],
   "source": [
    "from sklearn.ensemble import VotingClassifier\n",
    "from sklearn.ensemble import RandomForestClassifier\n",
    "from xgboost import XGBClassifier\n",
    "\n",
    "\n",
    "\n",
    "# Create the ensemble model using VotingClassifier\n",
    "ensemble_model = VotingClassifier(\n",
    "    estimators=[('rf', random_forest), ('xgb', xgboost)],\n",
    "    voting='soft'  # 'soft' for probabilities-based voting or 'hard' for majority voting\n",
    ")\n",
    "\n",
    "ensemble_model.fit(X_train_sm, y_train_sm)\n",
    "\n",
    "predictions = ensemble_model.predict(X_test)\n"
   ]
  },
  {
   "cell_type": "code",
   "execution_count": 19,
   "id": "0fc49dfc",
   "metadata": {
    "execution": {
     "iopub.execute_input": "2023-06-14T11:36:08.962592Z",
     "iopub.status.busy": "2023-06-14T11:36:08.962268Z",
     "iopub.status.idle": "2023-06-14T11:36:08.987320Z",
     "shell.execute_reply": "2023-06-14T11:36:08.986077Z"
    },
    "papermill": {
     "duration": 0.040865,
     "end_time": "2023-06-14T11:36:08.989656",
     "exception": false,
     "start_time": "2023-06-14T11:36:08.948791",
     "status": "completed"
    },
    "tags": []
   },
   "outputs": [
    {
     "name": "stdout",
     "output_type": "stream",
     "text": [
      "Confusion Matrix:\n",
      "[[3344    2]\n",
      " [  30  102]]\n",
      "              precision    recall  f1-score   support\n",
      "\n",
      "         0.0       0.99      1.00      1.00      3346\n",
      "         1.0       0.98      0.77      0.86       132\n",
      "\n",
      "    accuracy                           0.99      3478\n",
      "   macro avg       0.99      0.89      0.93      3478\n",
      "weighted avg       0.99      0.99      0.99      3478\n",
      "\n"
     ]
    }
   ],
   "source": [
    "cm = confusion_matrix(y_test, predictions)\n",
    "print(\"Confusion Matrix:\")\n",
    "print(cm)\n",
    "\n",
    "# Evaluating the accuracy of the model\n",
    "report = classification_report(y_test, predictions)\n",
    "print(report)"
   ]
  },
  {
   "cell_type": "code",
   "execution_count": null,
   "id": "3dc1b807",
   "metadata": {
    "papermill": {
     "duration": 0.012867,
     "end_time": "2023-06-14T11:36:09.016228",
     "exception": false,
     "start_time": "2023-06-14T11:36:09.003361",
     "status": "completed"
    },
    "tags": []
   },
   "outputs": [],
   "source": []
  },
  {
   "cell_type": "markdown",
   "id": "a8716869",
   "metadata": {
    "papermill": {
     "duration": 0.012624,
     "end_time": "2023-06-14T11:36:09.041495",
     "exception": false,
     "start_time": "2023-06-14T11:36:09.028871",
     "status": "completed"
    },
    "tags": []
   },
   "source": [
    "### Important features"
   ]
  },
  {
   "cell_type": "code",
   "execution_count": 20,
   "id": "6a51e6a7",
   "metadata": {
    "execution": {
     "iopub.execute_input": "2023-06-14T11:36:09.068927Z",
     "iopub.status.busy": "2023-06-14T11:36:09.068104Z",
     "iopub.status.idle": "2023-06-14T11:42:10.861547Z",
     "shell.execute_reply": "2023-06-14T11:42:10.860497Z"
    },
    "papermill": {
     "duration": 361.80998,
     "end_time": "2023-06-14T11:42:10.864059",
     "exception": false,
     "start_time": "2023-06-14T11:36:09.054079",
     "status": "completed"
    },
    "tags": []
   },
   "outputs": [],
   "source": [
    "model = RandomForestRegressor()\n",
    "\n",
    "model.fit(X_train_sm, y_train_sm)\n",
    "\n",
    "# Retrieve feature importances\n",
    "importances = model.feature_importances_"
   ]
  },
  {
   "cell_type": "code",
   "execution_count": 21,
   "id": "2bf209d4",
   "metadata": {
    "execution": {
     "iopub.execute_input": "2023-06-14T11:42:10.890280Z",
     "iopub.status.busy": "2023-06-14T11:42:10.889976Z",
     "iopub.status.idle": "2023-06-14T11:42:11.264229Z",
     "shell.execute_reply": "2023-06-14T11:42:11.263302Z"
    },
    "papermill": {
     "duration": 0.389621,
     "end_time": "2023-06-14T11:42:11.266596",
     "exception": false,
     "start_time": "2023-06-14T11:42:10.876975",
     "status": "completed"
    },
    "tags": []
   },
   "outputs": [
    {
     "data": {
      "image/png": "[encoded data removed]",
      "text/plain": [
       "<Figure size 640x480 with 1 Axes>"
      ]
     },
     "metadata": {},
     "output_type": "display_data"
    }
   ],
   "source": [
    "feature_names = df_preprocessed.columns\n",
    "\n",
    "sorted_indices = importances.argsort()[::-1]\n",
    "sorted_importances = importances[sorted_indices]\n",
    "\n",
    "# Select the top 10 features\n",
    "top_features_indices = sorted_indices[:10]\n",
    "top_features_importances = sorted_importances[:10]\n",
    "\n",
    "top_feature_names = [feature_names[i] for i in top_features_indices]\n",
    "\n",
    "plt.bar(range(len(top_features_importances)), top_features_importances)\n",
    "plt.xticks(range(len(top_features_importances)), top_feature_names, rotation=45)\n",
    "plt.xlabel('Feature')\n",
    "plt.ylabel('Importance')\n",
    "plt.title('Top 10 Feature Importances')\n",
    "plt.tight_layout()\n",
    "plt.show()\n"
   ]
  },
  {
   "cell_type": "code",
   "execution_count": 22,
   "id": "3b6dc701",
   "metadata": {
    "execution": {
     "iopub.execute_input": "2023-06-14T11:42:11.294914Z",
     "iopub.status.busy": "2023-06-14T11:42:11.294137Z",
     "iopub.status.idle": "2023-06-14T11:42:15.004082Z",
     "shell.execute_reply": "2023-06-14T11:42:15.003082Z"
    },
    "papermill": {
     "duration": 3.726825,
     "end_time": "2023-06-14T11:42:15.006368",
     "exception": false,
     "start_time": "2023-06-14T11:42:11.279543",
     "status": "completed"
    },
    "tags": []
   },
   "outputs": [
    {
     "data": {
      "image/png": "[encoded data removed]",
      "text/plain": [
       "<Figure size 640x480 with 1 Axes>"
      ]
     },
     "metadata": {},
     "output_type": "display_data"
    },
    {
     "data": {
      "image/png": "[encoded data removed]",
      "text/plain": [
       "<Figure size 640x480 with 1 Axes>"
      ]
     },
     "metadata": {},
     "output_type": "display_data"
    },
    {
     "data": {
      "image/png": "[encoded data removed]",
      "text/plain": [
       "<Figure size 640x480 with 1 Axes>"
      ]
     },
     "metadata": {},
     "output_type": "display_data"
    },
    {
     "data": {
      "image/png": "[encoded data removed]",
      "text/plain": [
       "<Figure size 640x480 with 1 Axes>"
      ]
     },
     "metadata": {},
     "output_type": "display_data"
    },
    {
     "data": {
      "image/png": "[encoded data removed]",
      "text/plain": [
       "<Figure size 640x480 with 1 Axes>"
      ]
     },
     "metadata": {},
     "output_type": "display_data"
    },
    {
     "data": {
      "image/png": "[encoded data removed]",
      "text/plain": [
       "<Figure size 640x480 with 1 Axes>"
      ]
     },
     "metadata": {},
     "output_type": "display_data"
    },
    {
     "data": {
      "image/png": "[encoded data removed]",
      "text/plain": [
       "<Figure size 640x480 with 1 Axes>"
      ]
     },
     "metadata": {},
     "output_type": "display_data"
    },
    {
     "data": {
      "image/png": "[encoded data removed]",
      "text/plain": [
       "<Figure size 640x480 with 1 Axes>"
      ]
     },
     "metadata": {},
     "output_type": "display_data"
    },
    {
     "data": {
      "image/png": "[encoded data removed]",
      "text/plain": [
       "<Figure size 640x480 with 1 Axes>"
      ]
     },
     "metadata": {},
     "output_type": "display_data"
    },
    {
     "data": {
      "image/png": "[encoded data removed]",
      "text/plain": [
       "<Figure size 640x480 with 1 Axes>"
      ]
     },
     "metadata": {},
     "output_type": "display_data"
    }
   ],
   "source": [
    "# Plot histograms for the top 10 features\n",
    "for feature_name in top_feature_names:\n",
    "    selected_feature = df_preprocessed[feature_name]\n",
    "    plt.hist(selected_feature, bins='auto')\n",
    "    plt.xlabel(feature_name)\n",
    "    plt.ylabel('Frequency')\n",
    "    plt.title(f'Distribution of {feature_name}')\n",
    "    plt.show()"
   ]
  },
  {
   "cell_type": "markdown",
   "id": "80e6e651",
   "metadata": {
    "papermill": {
     "duration": 0.016864,
     "end_time": "2023-06-14T11:42:15.040266",
     "exception": false,
     "start_time": "2023-06-14T11:42:15.023402",
     "status": "completed"
    },
    "tags": []
   },
   "source": [
    "### We still can see a lot of zero values"
   ]
  },
  {
   "cell_type": "code",
   "execution_count": 23,
   "id": "bfcef533",
   "metadata": {
    "execution": {
     "iopub.execute_input": "2023-06-14T11:42:15.074972Z",
     "iopub.status.busy": "2023-06-14T11:42:15.074340Z",
     "iopub.status.idle": "2023-06-14T11:42:15.670870Z",
     "shell.execute_reply": "2023-06-14T11:42:15.669298Z"
    },
    "papermill": {
     "duration": 0.616378,
     "end_time": "2023-06-14T11:42:15.673308",
     "exception": false,
     "start_time": "2023-06-14T11:42:15.056930",
     "status": "completed"
    },
    "tags": []
   },
   "outputs": [
    {
     "name": "stdout",
     "output_type": "stream",
     "text": [
      "Columns where the majority value is 0:\n",
      "['num_53', 'num_79', 'num_105', 'num_255', 'num_298']\n",
      "Count of 0 values for each column:\n",
      "num_53: 26894\n",
      "num_79: 26894\n",
      "num_105: 26894\n",
      "num_255: 26894\n",
      "num_298: 26894\n"
     ]
    }
   ],
   "source": [
    "columns_with_majority_zero = []\n",
    "zero_counts = {}\n",
    "\n",
    "for column in X_train_sm.columns:\n",
    "    value_counts = X_train_sm[column].value_counts()\n",
    "    majority_value = value_counts.idxmax()\n",
    "    majority_count = value_counts.max()\n",
    "\n",
    "    if majority_value == 0:\n",
    "        columns_with_majority_zero.append(column)\n",
    "        zero_counts[column] = majority_count\n",
    "\n",
    "print(\"Columns where the majority value is 0:\")\n",
    "print(columns_with_majority_zero)\n",
    "\n",
    "print(\"Count of 0 values for each column:\")\n",
    "for column, count in zero_counts.items():\n",
    "    print(f\"{column}: {count}\")"
   ]
  },
  {
   "cell_type": "markdown",
   "id": "180f20c1",
   "metadata": {
    "papermill": {
     "duration": 0.016074,
     "end_time": "2023-06-14T11:42:15.707746",
     "exception": false,
     "start_time": "2023-06-14T11:42:15.691672",
     "status": "completed"
    },
    "tags": []
   },
   "source": [
    "## TEST"
   ]
  },
  {
   "cell_type": "code",
   "execution_count": 24,
   "id": "3e7730b6",
   "metadata": {
    "execution": {
     "iopub.execute_input": "2023-06-14T11:42:15.741358Z",
     "iopub.status.busy": "2023-06-14T11:42:15.741024Z",
     "iopub.status.idle": "2023-06-14T11:42:16.610583Z",
     "shell.execute_reply": "2023-06-14T11:42:16.609513Z"
    },
    "papermill": {
     "duration": 0.889474,
     "end_time": "2023-06-14T11:42:16.613091",
     "exception": false,
     "start_time": "2023-06-14T11:42:15.723617",
     "status": "completed"
    },
    "tags": []
   },
   "outputs": [],
   "source": [
    "# or data/delay_df.csv\n",
    "df_test = pd.read_csv(\"/kaggle/input/privat-bank-ds/delay_df.csv\", sep=\"\\t\")"
   ]
  },
  {
   "cell_type": "code",
   "execution_count": 25,
   "id": "5251379c",
   "metadata": {
    "execution": {
     "iopub.execute_input": "2023-06-14T11:42:16.649865Z",
     "iopub.status.busy": "2023-06-14T11:42:16.648180Z",
     "iopub.status.idle": "2023-06-14T11:42:16.654933Z",
     "shell.execute_reply": "2023-06-14T11:42:16.654042Z"
    },
    "papermill": {
     "duration": 0.027178,
     "end_time": "2023-06-14T11:42:16.657232",
     "exception": false,
     "start_time": "2023-06-14T11:42:16.630054",
     "status": "completed"
    },
    "tags": []
   },
   "outputs": [],
   "source": [
    "def check_matching_columns(df_train, df_test):\n",
    "    \"\"\"\n",
    "    Checks if the columns in the train and test datasets (excluding the target column) are the same.\n",
    "    This helps prevent incorrect predictions caused by inconsistent column structures.\n",
    "\n",
    "    Args:\n",
    "        df_train (pandas.DataFrame): The train dataset.\n",
    "        df_test (pandas.DataFrame): The test dataset.\n",
    "\n",
    "    Returns:\n",
    "        bool: True if the columns are the same, False otherwise.\n",
    "    \"\"\"\n",
    "    # Compare train dataset without target\n",
    "    train_columns = set(df_train.columns[:-1])\n",
    "    test_columns = set(df_test.columns)\n",
    "\n",
    "    if train_columns == test_columns:\n",
    "        print(\"The columns in the train and test datasets (excluding the target column) are the same.\")\n",
    "        return True\n",
    "    else:\n",
    "        print(\"The columns in the train and test datasets (excluding the target column) are different\")\n",
    "        return False"
   ]
  },
  {
   "cell_type": "code",
   "execution_count": 26,
   "id": "54a093f4",
   "metadata": {
    "execution": {
     "iopub.execute_input": "2023-06-14T11:42:16.690232Z",
     "iopub.status.busy": "2023-06-14T11:42:16.689941Z",
     "iopub.status.idle": "2023-06-14T11:42:16.697993Z",
     "shell.execute_reply": "2023-06-14T11:42:16.696982Z"
    },
    "papermill": {
     "duration": 0.027057,
     "end_time": "2023-06-14T11:42:16.700025",
     "exception": false,
     "start_time": "2023-06-14T11:42:16.672968",
     "status": "completed"
    },
    "tags": []
   },
   "outputs": [
    {
     "name": "stdout",
     "output_type": "stream",
     "text": [
      "The columns in the train and test datasets (excluding the target column) are different\n"
     ]
    },
    {
     "data": {
      "text/plain": [
       "False"
      ]
     },
     "execution_count": 26,
     "metadata": {},
     "output_type": "execute_result"
    }
   ],
   "source": [
    "check_matching_columns(df_preprocessed, df_test)"
   ]
  },
  {
   "cell_type": "code",
   "execution_count": 27,
   "id": "145da507",
   "metadata": {
    "execution": {
     "iopub.execute_input": "2023-06-14T11:42:16.732875Z",
     "iopub.status.busy": "2023-06-14T11:42:16.732613Z",
     "iopub.status.idle": "2023-06-14T11:42:16.748497Z",
     "shell.execute_reply": "2023-06-14T11:42:16.747626Z"
    },
    "papermill": {
     "duration": 0.034819,
     "end_time": "2023-06-14T11:42:16.750518",
     "exception": false,
     "start_time": "2023-06-14T11:42:16.715699",
     "status": "completed"
    },
    "tags": []
   },
   "outputs": [],
   "source": [
    "\n",
    "df_test = df_test.drop(delete[0], axis=1)\n"
   ]
  },
  {
   "cell_type": "code",
   "execution_count": 28,
   "id": "4e192fff",
   "metadata": {
    "execution": {
     "iopub.execute_input": "2023-06-14T11:42:16.785323Z",
     "iopub.status.busy": "2023-06-14T11:42:16.784687Z",
     "iopub.status.idle": "2023-06-14T11:42:16.803507Z",
     "shell.execute_reply": "2023-06-14T11:42:16.802498Z"
    },
    "papermill": {
     "duration": 0.038701,
     "end_time": "2023-06-14T11:42:16.805740",
     "exception": false,
     "start_time": "2023-06-14T11:42:16.767039",
     "status": "completed"
    },
    "tags": []
   },
   "outputs": [],
   "source": [
    "df_test = df_test.drop(columns=delete[1])"
   ]
  },
  {
   "cell_type": "code",
   "execution_count": 29,
   "id": "c034b768",
   "metadata": {
    "execution": {
     "iopub.execute_input": "2023-06-14T11:42:16.843126Z",
     "iopub.status.busy": "2023-06-14T11:42:16.842288Z",
     "iopub.status.idle": "2023-06-14T11:42:16.865402Z",
     "shell.execute_reply": "2023-06-14T11:42:16.864124Z"
    },
    "papermill": {
     "duration": 0.043102,
     "end_time": "2023-06-14T11:42:16.867929",
     "exception": false,
     "start_time": "2023-06-14T11:42:16.824827",
     "status": "completed"
    },
    "tags": []
   },
   "outputs": [],
   "source": [
    "\n",
    "df_test = df_test.drop(columns=delete[2])\n",
    "df_test = df_test.drop(columns=[\"Unnamed: 0\", \"id\"])\n"
   ]
  },
  {
   "cell_type": "code",
   "execution_count": 30,
   "id": "3f408da8",
   "metadata": {
    "execution": {
     "iopub.execute_input": "2023-06-14T11:42:16.903579Z",
     "iopub.status.busy": "2023-06-14T11:42:16.902738Z",
     "iopub.status.idle": "2023-06-14T11:42:16.913497Z",
     "shell.execute_reply": "2023-06-14T11:42:16.912528Z"
    },
    "papermill": {
     "duration": 0.030226,
     "end_time": "2023-06-14T11:42:16.915756",
     "exception": false,
     "start_time": "2023-06-14T11:42:16.885530",
     "status": "completed"
    },
    "tags": []
   },
   "outputs": [],
   "source": [
    "df_test = df_test.drop(columns=delete[3])"
   ]
  },
  {
   "cell_type": "code",
   "execution_count": 31,
   "id": "6039c84d",
   "metadata": {
    "execution": {
     "iopub.execute_input": "2023-06-14T11:42:16.949907Z",
     "iopub.status.busy": "2023-06-14T11:42:16.949610Z",
     "iopub.status.idle": "2023-06-14T11:42:18.326107Z",
     "shell.execute_reply": "2023-06-14T11:42:18.325115Z"
    },
    "papermill": {
     "duration": 1.395838,
     "end_time": "2023-06-14T11:42:18.328693",
     "exception": false,
     "start_time": "2023-06-14T11:42:16.932855",
     "status": "completed"
    },
    "tags": []
   },
   "outputs": [
    {
     "name": "stdout",
     "output_type": "stream",
     "text": [
      "0\n",
      "0\n"
     ]
    }
   ],
   "source": [
    "df_impute = impute(df_test)\n",
    "df_outliers = del_outliers(df_impute)\n",
    "df_skew = del_skew(df_outliers)\n",
    "df_replace_zeros = replace_zeros(df_skew)"
   ]
  },
  {
   "cell_type": "code",
   "execution_count": 32,
   "id": "74a8f46a",
   "metadata": {
    "execution": {
     "iopub.execute_input": "2023-06-14T11:42:18.365230Z",
     "iopub.status.busy": "2023-06-14T11:42:18.364899Z",
     "iopub.status.idle": "2023-06-14T11:42:18.369486Z",
     "shell.execute_reply": "2023-06-14T11:42:18.368430Z"
    },
    "papermill": {
     "duration": 0.025353,
     "end_time": "2023-06-14T11:42:18.371489",
     "exception": false,
     "start_time": "2023-06-14T11:42:18.346136",
     "status": "completed"
    },
    "tags": []
   },
   "outputs": [],
   "source": [
    "df_test_preprocessed = df_replace_zeros"
   ]
  },
  {
   "cell_type": "code",
   "execution_count": 33,
   "id": "88e8fc4f",
   "metadata": {
    "execution": {
     "iopub.execute_input": "2023-06-14T11:42:18.407046Z",
     "iopub.status.busy": "2023-06-14T11:42:18.406223Z",
     "iopub.status.idle": "2023-06-14T11:42:18.413838Z",
     "shell.execute_reply": "2023-06-14T11:42:18.412806Z"
    },
    "papermill": {
     "duration": 0.027758,
     "end_time": "2023-06-14T11:42:18.415995",
     "exception": false,
     "start_time": "2023-06-14T11:42:18.388237",
     "status": "completed"
    },
    "tags": []
   },
   "outputs": [
    {
     "name": "stdout",
     "output_type": "stream",
     "text": [
      "The columns in the train and test datasets (excluding the target column) are the same.\n"
     ]
    },
    {
     "data": {
      "text/plain": [
       "True"
      ]
     },
     "execution_count": 33,
     "metadata": {},
     "output_type": "execute_result"
    }
   ],
   "source": [
    "check_matching_columns(df_preprocessed, df_replace_zeros)"
   ]
  },
  {
   "cell_type": "code",
   "execution_count": null,
   "id": "202783eb",
   "metadata": {
    "papermill": {
     "duration": 0.017205,
     "end_time": "2023-06-14T11:42:18.450568",
     "exception": false,
     "start_time": "2023-06-14T11:42:18.433363",
     "status": "completed"
    },
    "tags": []
   },
   "outputs": [],
   "source": []
  },
  {
   "cell_type": "markdown",
   "id": "fc7e58fc",
   "metadata": {
    "papermill": {
     "duration": 0.017102,
     "end_time": "2023-06-14T11:42:18.485260",
     "exception": false,
     "start_time": "2023-06-14T11:42:18.468158",
     "status": "completed"
    },
    "tags": []
   },
   "source": [
    "### Use XGBoost for prediciton"
   ]
  },
  {
   "cell_type": "code",
   "execution_count": 34,
   "id": "9030788b",
   "metadata": {
    "execution": {
     "iopub.execute_input": "2023-06-14T11:42:18.522491Z",
     "iopub.status.busy": "2023-06-14T11:42:18.521530Z",
     "iopub.status.idle": "2023-06-14T11:42:18.585264Z",
     "shell.execute_reply": "2023-06-14T11:42:18.584392Z"
    },
    "papermill": {
     "duration": 0.084529,
     "end_time": "2023-06-14T11:42:18.587494",
     "exception": false,
     "start_time": "2023-06-14T11:42:18.502965",
     "status": "completed"
    },
    "tags": []
   },
   "outputs": [
    {
     "name": "stdout",
     "output_type": "stream",
     "text": [
      "0    6771\n",
      "1      40\n",
      "dtype: int64\n"
     ]
    }
   ],
   "source": [
    "predictions = xgboost.predict(df_test_preprocessed)\n",
    "\n",
    "my_series = pd.Series(predictions)\n",
    "print(my_series.value_counts())"
   ]
  },
  {
   "cell_type": "markdown",
   "id": "b4451265",
   "metadata": {
    "papermill": {
     "duration": 0.017372,
     "end_time": "2023-06-14T11:42:18.622629",
     "exception": false,
     "start_time": "2023-06-14T11:42:18.605257",
     "status": "completed"
    },
    "tags": []
   },
   "source": [
    "#### Add prediction to sample dataset and save "
   ]
  },
  {
   "cell_type": "code",
   "execution_count": 35,
   "id": "f7f9ce41",
   "metadata": {
    "execution": {
     "iopub.execute_input": "2023-06-14T11:42:18.659526Z",
     "iopub.status.busy": "2023-06-14T11:42:18.659190Z",
     "iopub.status.idle": "2023-06-14T11:42:18.665036Z",
     "shell.execute_reply": "2023-06-14T11:42:18.664090Z"
    },
    "papermill": {
     "duration": 0.026581,
     "end_time": "2023-06-14T11:42:18.667089",
     "exception": false,
     "start_time": "2023-06-14T11:42:18.640508",
     "status": "completed"
    },
    "tags": []
   },
   "outputs": [],
   "source": [
    "df_replace_zeros['Predictions'] = predictions"
   ]
  },
  {
   "cell_type": "code",
   "execution_count": 36,
   "id": "836d5e18",
   "metadata": {
    "execution": {
     "iopub.execute_input": "2023-06-14T11:42:18.703974Z",
     "iopub.status.busy": "2023-06-14T11:42:18.703124Z",
     "iopub.status.idle": "2023-06-14T11:42:22.014389Z",
     "shell.execute_reply": "2023-06-14T11:42:22.013328Z"
    },
    "papermill": {
     "duration": 3.332854,
     "end_time": "2023-06-14T11:42:22.017266",
     "exception": false,
     "start_time": "2023-06-14T11:42:18.684412",
     "status": "completed"
    },
    "tags": []
   },
   "outputs": [],
   "source": [
    "df_replace_zeros.to_csv('sample_delay_df.csv', index=False)"
   ]
  },
  {
   "cell_type": "code",
   "execution_count": null,
   "id": "2316fc15",
   "metadata": {
    "papermill": {
     "duration": 0.028989,
     "end_time": "2023-06-14T11:42:22.065390",
     "exception": false,
     "start_time": "2023-06-14T11:42:22.036401",
     "status": "completed"
    },
    "tags": []
   },
   "outputs": [],
   "source": []
  }
 ],
 "metadata": {
  "kernelspec": {
   "display_name": "Python 3",
   "language": "python",
   "name": "python3"
  },
  "language_info": {
   "codemirror_mode": {
    "name": "ipython",
    "version": 3
   },
   "file_extension": ".py",
   "mimetype": "text/x-python",
   "name": "python",
   "nbconvert_exporter": "python",
   "pygments_lexer": "ipython3",
   "version": "3.10.10"
  },
  "papermill": {
   "default_parameters": {},
   "duration": 479.005515,
   "end_time": "2023-06-14T11:42:24.504719",
   "environment_variables": {},
   "exception": null,
   "input_path": "__notebook__.ipynb",
   "output_path": "__notebook__.ipynb",
   "parameters": {},
   "start_time": "2023-06-14T11:34:25.499204",
   "version": "2.4.0"
  }
 },
 "nbformat": 4,
 "nbformat_minor": 5
}
